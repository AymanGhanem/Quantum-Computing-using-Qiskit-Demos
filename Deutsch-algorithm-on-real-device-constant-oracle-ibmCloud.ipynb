{
 "cells": [
  {
   "cell_type": "code",
   "execution_count": 2,
   "metadata": {},
   "outputs": [
    {
     "name": "stderr",
     "output_type": "stream",
     "text": [
      "ibmqfactory.load_account:WARNING:2022-08-21 08:23:32,946: Credentials are already in use. The existing account in the session will be replaced.\n"
     ]
    }
   ],
   "source": [
    "import math\n",
    "import numpy as np\n",
    "\n",
    "# importing Qiskit\n",
    "import qiskit as q\n",
    "from qiskit import IBMQ, Aer\n",
    "from qiskit.providers.ibmq import least_busy\n",
    "from qiskit import QuantumCircuit, assemble, transpile\n",
    "from qiskit.visualization import plot_histogram, plot_bloch_multivector\n",
    "\n",
    "# import basic plot tools\n",
    "from qiskit.visualization import plot_histogram\n",
    "\n",
    "# Loading your IBM Quantum account(s)\n",
    "IBMQ.save_account(\"TOKEN\", overwrite= True)\n",
    "provider = IBMQ.load_account()"
   ]
  },
  {
   "cell_type": "code",
   "execution_count": 3,
   "metadata": {},
   "outputs": [
    {
     "data": {
      "image/png": "[encoded data removed]",
      "text/plain": [
       "<Figure size 206.852x144.48 with 1 Axes>"
      ]
     },
     "execution_count": 3,
     "metadata": {},
     "output_type": "execute_result"
    }
   ],
   "source": [
    "constant_oracle = QuantumCircuit(2)\n",
    "constant_oracle.barrier()\n",
    "constant_oracle.x(1)\n",
    "constant_oracle.draw(\"mpl\")"
   ]
  },
  {
   "cell_type": "code",
   "execution_count": 5,
   "metadata": {},
   "outputs": [
    {
     "data": {
      "image/png": "[encoded data removed]",
      "text/plain": [
       "<Figure size 507.852x204.68 with 1 Axes>"
      ]
     },
     "execution_count": 5,
     "metadata": {},
     "output_type": "execute_result"
    }
   ],
   "source": [
    "circuit = QuantumCircuit(2, 1)\n",
    "circuit.h(0)\n",
    "circuit.x(1)\n",
    "circuit.h(1)\n",
    "circuit.compose(constant_oracle, inplace= True)\n",
    "circuit.barrier()\n",
    "circuit.h(0)\n",
    "circuit.measure([0], [0])\n",
    "circuit.draw(\"mpl\")"
   ]
  },
  {
   "cell_type": "code",
   "execution_count": 8,
   "metadata": {},
   "outputs": [],
   "source": [
    "backend = backend = provider.backend.ibm_oslo"
   ]
  },
  {
   "cell_type": "code",
   "execution_count": null,
   "metadata": {},
   "outputs": [
    {
     "name": "stdout",
     "output_type": "stream",
     "text": [
      "Job Status: job is queued (323)   "
     ]
    }
   ],
   "source": [
    "from qiskit.tools.monitor import job_monitor\n",
    "\n",
    "transpiled_dj_circuit = transpile(circuit, backend, optimization_level=3)\n",
    "job = backend.run(transpiled_dj_circuit)\n",
    "job_monitor(job, interval=2)"
   ]
  },
  {
   "cell_type": "code",
   "execution_count": 12,
   "metadata": {},
   "outputs": [
    {
     "data": {
      "image/png": "[encoded data removed]",
      "text/plain": [
       "<Figure size 504x360 with 1 Axes>"
      ]
     },
     "execution_count": 12,
     "metadata": {},
     "output_type": "execute_result"
    }
   ],
   "source": [
    "results = job.result()\n",
    "answer = results.get_counts()\n",
    "\n",
    "plot_histogram(answer)"
   ]
  }
 ],
 "metadata": {
  "kernelspec": {
   "display_name": "Python 3",
   "language": "python",
   "name": "python3"
  },
  "language_info": {
   "codemirror_mode": {
    "name": "ipython",
    "version": 3
   },
   "file_extension": ".py",
   "mimetype": "text/x-python",
   "name": "python",
   "nbconvert_exporter": "python",
   "pygments_lexer": "ipython3",
   "version": "3.7.3"
  },
  "widgets": {
   "application/vnd.jupyter.widget-state+json": {
    "state": {
     "068312adfcc140d3b61e0257b365ca5a": {
      "model_module": "@jupyter-widgets/base",
      "model_module_version": "1.2.0",
      "model_name": "LayoutModel",
      "state": {
       "width": "190px"
      }
     },
     "0b2e77806c56484d93ab94f097c30ebc": {
      "model_module": "@jupyter-widgets/controls",
      "model_module_version": "1.5.0",
      "model_name": "ButtonModel",
      "state": {
       "icon": "close",
       "layout": "IPY_MODEL_f926e059831a446e9037a5c992598a51",
       "style": "IPY_MODEL_a33ea49b358b47a488f8370c77acd2dc"
      }
     },
     "0e2dce508d574ee8bd2d47544b171959": {
      "model_module": "@jupyter-widgets/base",
      "model_module_version": "1.2.0",
      "model_name": "LayoutModel",
      "state": {
       "grid_area": "right",
       "padding": "0px 0px 0px 0px",
       "width": "70px"
      }
     },
     "18d5d4f3890442919d0b6a726da662b0": {
      "model_module": "@jupyter-widgets/controls",
      "model_module_version": "1.5.0",
      "model_name": "HTMLModel",
      "state": {
       "layout": "IPY_MODEL_37231c00646d4cc3a90471f9dd81845e",
       "style": "IPY_MODEL_89d9e8465c0a4c53aa25893b35e72217",
       "value": "-"
      }
     },
     "29dd60bfff544c5b8c01a35382ec9a27": {
      "model_module": "@jupyter-widgets/controls",
      "model_module_version": "1.5.0",
      "model_name": "DescriptionStyleModel",
      "state": {
       "description_width": ""
      }
     },
     "30fddc0afa8544019c07daa70ee9969b": {
      "model_module": "@jupyter-widgets/controls",
      "model_module_version": "1.5.0",
      "model_name": "HTMLModel",
      "state": {
       "layout": "IPY_MODEL_be1f2af5fe0d4e6f8df200010f3d1abf",
       "style": "IPY_MODEL_c92f744243124483a850dc78d44a42fc",
       "value": "ibm_oslo"
      }
     },
     "34d164fdf3aa4607a316edf185ddeeb7": {
      "model_module": "@jupyter-widgets/controls",
      "model_module_version": "1.5.0",
      "model_name": "HBoxModel",
      "state": {
       "children": [
        "IPY_MODEL_f1ef9bc4fb4c4afebac0f7137fa92775",
        "IPY_MODEL_a190f52b11cc4a128beec8a71f21b93c",
        "IPY_MODEL_b30ee16ecdf845d186cbcd4929ff385c",
        "IPY_MODEL_cb034ab21d2d4900915ae75dd63f3ba4",
        "IPY_MODEL_f0310c47df2e4225b52eb6afd02c3314"
       ],
       "layout": "IPY_MODEL_53f8205a48224b2c97cf7e3460e3ceaa"
      }
     },
     "37231c00646d4cc3a90471f9dd81845e": {
      "model_module": "@jupyter-widgets/base",
      "model_module_version": "1.2.0",
      "model_name": "LayoutModel",
      "state": {
       "width": "70px"
      }
     },
     "391b410bae9447a48e9547dd48856486": {
      "model_module": "@jupyter-widgets/base",
      "model_module_version": "1.2.0",
      "model_name": "LayoutModel",
      "state": {
       "grid_template_areas": "\n                                       \". . . . right \"\n                                        ",
       "grid_template_columns": "20% 20% 20% 20% 20%",
       "width": "100%"
      }
     },
     "3a1321a219ad4872955338327b30667d": {
      "model_module": "@jupyter-widgets/base",
      "model_module_version": "1.2.0",
      "model_name": "LayoutModel",
      "state": {
       "margin": "0px 0px 10px 0px"
      }
     },
     "4680d61fa36a4d0abc132756efc59fae": {
      "model_module": "@jupyter-widgets/base",
      "model_module_version": "1.2.0",
      "model_name": "LayoutModel",
      "state": {
       "width": "190px"
      }
     },
     "509c5c2e09f24237814961797ede39a4": {
      "model_module": "@jupyter-widgets/base",
      "model_module_version": "1.2.0",
      "model_name": "LayoutModel",
      "state": {}
     },
     "5357d8114a1045d68faa8ab15f9b6f07": {
      "model_module": "@jupyter-widgets/controls",
      "model_module_version": "1.5.0",
      "model_name": "DescriptionStyleModel",
      "state": {
       "description_width": ""
      }
     },
     "53f8205a48224b2c97cf7e3460e3ceaa": {
      "model_module": "@jupyter-widgets/base",
      "model_module_version": "1.2.0",
      "model_name": "LayoutModel",
      "state": {
       "margin": "0px 0px 0px 37px",
       "width": "600px"
      }
     },
     "54ff69fb1c43470d8a2c6ba703725563": {
      "model_module": "@jupyter-widgets/controls",
      "model_module_version": "1.5.0",
      "model_name": "HTMLModel",
      "state": {
       "layout": "IPY_MODEL_e594079ee5624efabd89c2bd5df55750",
       "style": "IPY_MODEL_f7db573701d6400f8b99871554405879",
       "value": "job has successfully run"
      }
     },
     "6044189901fc404492924b2b0a642c9b": {
      "model_module": "@jupyter-widgets/controls",
      "model_module_version": "1.5.0",
      "model_name": "HBoxModel",
      "state": {
       "children": [
        "IPY_MODEL_0b2e77806c56484d93ab94f097c30ebc",
        "IPY_MODEL_eab84d2211c24357b751ce2882e3bd7f",
        "IPY_MODEL_30fddc0afa8544019c07daa70ee9969b",
        "IPY_MODEL_9281ef907a0d4425a8a0df78036a1298",
        "IPY_MODEL_18d5d4f3890442919d0b6a726da662b0",
        "IPY_MODEL_54ff69fb1c43470d8a2c6ba703725563"
       ],
       "layout": "IPY_MODEL_e35c9aa2e88d4442a8a96cc85133ee2c"
      }
     },
     "648cbb8925dd417aab8406f4a276f875": {
      "model_module": "@jupyter-widgets/base",
      "model_module_version": "1.2.0",
      "model_name": "LayoutModel",
      "state": {
       "width": "145px"
      }
     },
     "6be1cdf77712400898385557a2858b8b": {
      "model_module": "@jupyter-widgets/controls",
      "model_module_version": "1.5.0",
      "model_name": "DescriptionStyleModel",
      "state": {
       "description_width": ""
      }
     },
     "75f2cf936b47495f832bc54f389e8cdb": {
      "model_module": "@jupyter-widgets/base",
      "model_module_version": "1.2.0",
      "model_name": "LayoutModel",
      "state": {
       "width": "70px"
      }
     },
     "7d4c8b49dae448eb8a043ad4a73a7f7a": {
      "model_module": "@jupyter-widgets/base",
      "model_module_version": "1.2.0",
      "model_name": "LayoutModel",
      "state": {
       "width": "95px"
      }
     },
     "7dae5d0ea5a844f99f56577f1d778ca4": {
      "model_module": "@jupyter-widgets/controls",
      "model_module_version": "1.5.0",
      "model_name": "ButtonModel",
      "state": {
       "button_style": "primary",
       "description": "Clear",
       "layout": "IPY_MODEL_0e2dce508d574ee8bd2d47544b171959",
       "style": "IPY_MODEL_c846ade1324c43a5aec74000f60d8575"
      }
     },
     "89d9e8465c0a4c53aa25893b35e72217": {
      "model_module": "@jupyter-widgets/controls",
      "model_module_version": "1.5.0",
      "model_name": "DescriptionStyleModel",
      "state": {
       "description_width": ""
      }
     },
     "9281ef907a0d4425a8a0df78036a1298": {
      "model_module": "@jupyter-widgets/controls",
      "model_module_version": "1.5.0",
      "model_name": "HTMLModel",
      "state": {
       "layout": "IPY_MODEL_7d4c8b49dae448eb8a043ad4a73a7f7a",
       "style": "IPY_MODEL_29dd60bfff544c5b8c01a35382ec9a27",
       "value": "<font style='color:#34BC6E'>DONE</font>"
      }
     },
     "9f8759eece344276915825e90cced29b": {
      "model_module": "@jupyter-widgets/controls",
      "model_module_version": "1.5.0",
      "model_name": "DescriptionStyleModel",
      "state": {
       "description_width": ""
      }
     },
     "a190f52b11cc4a128beec8a71f21b93c": {
      "model_module": "@jupyter-widgets/controls",
      "model_module_version": "1.5.0",
      "model_name": "HTMLModel",
      "state": {
       "layout": "IPY_MODEL_648cbb8925dd417aab8406f4a276f875",
       "style": "IPY_MODEL_af2697d4ef4e4a4aa1f134e582a01c3c",
       "value": "<h5>Backend</h5>"
      }
     },
     "a33ea49b358b47a488f8370c77acd2dc": {
      "model_module": "@jupyter-widgets/controls",
      "model_module_version": "1.5.0",
      "model_name": "ButtonStyleModel",
      "state": {
       "button_color": "white"
      }
     },
     "a34c5cd3169f4dca869756f93f6c2b74": {
      "model_module": "@jupyter-widgets/controls",
      "model_module_version": "1.5.0",
      "model_name": "HTMLModel",
      "state": {
       "layout": "IPY_MODEL_3a1321a219ad4872955338327b30667d",
       "style": "IPY_MODEL_acf8718377e94a24ad462bdf85f5373b",
       "value": "<p style='font-family: IBM Plex Sans, Arial, Helvetica, sans-serif; font-size: 20px; font-weight: medium;'>Circuit Properties</p>"
      }
     },
     "ac64af7235194aa8871bdbac4c51b18a": {
      "model_module": "@jupyter-widgets/base",
      "model_module_version": "1.2.0",
      "model_name": "LayoutModel",
      "state": {
       "width": "95px"
      }
     },
     "acf8718377e94a24ad462bdf85f5373b": {
      "model_module": "@jupyter-widgets/controls",
      "model_module_version": "1.5.0",
      "model_name": "DescriptionStyleModel",
      "state": {
       "description_width": ""
      }
     },
     "af2697d4ef4e4a4aa1f134e582a01c3c": {
      "model_module": "@jupyter-widgets/controls",
      "model_module_version": "1.5.0",
      "model_name": "DescriptionStyleModel",
      "state": {
       "description_width": ""
      }
     },
     "b1bd84d64f1e492ba911b9389f5dcfa1": {
      "model_module": "@jupyter-widgets/controls",
      "model_module_version": "1.5.0",
      "model_name": "DescriptionStyleModel",
      "state": {
       "description_width": ""
      }
     },
     "b30ee16ecdf845d186cbcd4929ff385c": {
      "model_module": "@jupyter-widgets/controls",
      "model_module_version": "1.5.0",
      "model_name": "HTMLModel",
      "state": {
       "layout": "IPY_MODEL_ac64af7235194aa8871bdbac4c51b18a",
       "style": "IPY_MODEL_ce0696244ae145e0b8c2e9a023894175",
       "value": "<h5>Status</h5>"
      }
     },
     "b53085a82aa2431e8846ca2dbd068d91": {
      "model_module": "@jupyter-widgets/controls",
      "model_module_version": "1.5.0",
      "model_name": "GridBoxModel",
      "state": {
       "children": [
        "IPY_MODEL_7dae5d0ea5a844f99f56577f1d778ca4"
       ],
       "layout": "IPY_MODEL_391b410bae9447a48e9547dd48856486"
      }
     },
     "be1f2af5fe0d4e6f8df200010f3d1abf": {
      "model_module": "@jupyter-widgets/base",
      "model_module_version": "1.2.0",
      "model_name": "LayoutModel",
      "state": {
       "width": "145px"
      }
     },
     "c846ade1324c43a5aec74000f60d8575": {
      "model_module": "@jupyter-widgets/controls",
      "model_module_version": "1.5.0",
      "model_name": "ButtonStyleModel",
      "state": {}
     },
     "c92f744243124483a850dc78d44a42fc": {
      "model_module": "@jupyter-widgets/controls",
      "model_module_version": "1.5.0",
      "model_name": "DescriptionStyleModel",
      "state": {
       "description_width": ""
      }
     },
     "cb034ab21d2d4900915ae75dd63f3ba4": {
      "model_module": "@jupyter-widgets/controls",
      "model_module_version": "1.5.0",
      "model_name": "HTMLModel",
      "state": {
       "layout": "IPY_MODEL_75f2cf936b47495f832bc54f389e8cdb",
       "style": "IPY_MODEL_b1bd84d64f1e492ba911b9389f5dcfa1",
       "value": "<h5>Queue</h5>"
      }
     },
     "ce0696244ae145e0b8c2e9a023894175": {
      "model_module": "@jupyter-widgets/controls",
      "model_module_version": "1.5.0",
      "model_name": "DescriptionStyleModel",
      "state": {
       "description_width": ""
      }
     },
     "e35c9aa2e88d4442a8a96cc85133ee2c": {
      "model_module": "@jupyter-widgets/base",
      "model_module_version": "1.2.0",
      "model_name": "LayoutModel",
      "state": {
       "max_width": "700px",
       "min_width": "700px"
      }
     },
     "e594079ee5624efabd89c2bd5df55750": {
      "model_module": "@jupyter-widgets/base",
      "model_module_version": "1.2.0",
      "model_name": "LayoutModel",
      "state": {
       "overflow_x": "scroll"
      }
     },
     "eab84d2211c24357b751ce2882e3bd7f": {
      "model_module": "@jupyter-widgets/controls",
      "model_module_version": "1.5.0",
      "model_name": "HTMLModel",
      "state": {
       "layout": "IPY_MODEL_4680d61fa36a4d0abc132756efc59fae",
       "style": "IPY_MODEL_5357d8114a1045d68faa8ab15f9b6f07",
       "value": "6301ecb119ada73921049878"
      }
     },
     "f0310c47df2e4225b52eb6afd02c3314": {
      "model_module": "@jupyter-widgets/controls",
      "model_module_version": "1.5.0",
      "model_name": "HTMLModel",
      "state": {
       "layout": "IPY_MODEL_509c5c2e09f24237814961797ede39a4",
       "style": "IPY_MODEL_9f8759eece344276915825e90cced29b",
       "value": "<h5>Message</h5>"
      }
     },
     "f1ef9bc4fb4c4afebac0f7137fa92775": {
      "model_module": "@jupyter-widgets/controls",
      "model_module_version": "1.5.0",
      "model_name": "HTMLModel",
      "state": {
       "layout": "IPY_MODEL_068312adfcc140d3b61e0257b365ca5a",
       "style": "IPY_MODEL_6be1cdf77712400898385557a2858b8b",
       "value": "<h5>Job ID</h5>"
      }
     },
     "f7db573701d6400f8b99871554405879": {
      "model_module": "@jupyter-widgets/controls",
      "model_module_version": "1.5.0",
      "model_name": "DescriptionStyleModel",
      "state": {
       "description_width": ""
      }
     },
     "f926e059831a446e9037a5c992598a51": {
      "model_module": "@jupyter-widgets/base",
      "model_module_version": "1.2.0",
      "model_name": "LayoutModel",
      "state": {
       "margin": "0px 5px 0px 0px",
       "width": "32px"
      }
     }
    },
    "version_major": 2,
    "version_minor": 0
   }
  }
 },
 "nbformat": 4,
 "nbformat_minor": 5
}
